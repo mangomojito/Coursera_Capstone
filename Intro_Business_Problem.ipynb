{
 "cells": [
  {
   "cell_type": "code",
   "execution_count": 1,
   "metadata": {},
   "outputs": [],
   "source": [
    "### Introduction ###\n",
    "\n",
    "# Like most things in life, driving a vehicle carries a certain level of risk which depends on a wide range of various\n",
    "# factors. In 2018, there were approximately 33,654 fatal car accidents within the US that resulted in the deaths of\n",
    "# 36,560 individuals. If there were a reliable way to predict the safety levels of various driving conditions, then it\n",
    "# could result in a significant reduction in car accidents and the resulting fatalities. Clearly, this is a pressing\n",
    "# issue considering accidents are one of the leading causes of death and injury in our country.\n",
    "\n",
    "# This project aims to determine what the most influential factors are that contribute to the severity of a motor\n",
    "# vehicle accident, such as weather conditions, road conditions, light conditions, etc. and then create a model that\n",
    "# will be able to predict the severity of an accident based on these factors.\n"
   ]
  },
  {
   "cell_type": "code",
   "execution_count": null,
   "metadata": {},
   "outputs": [],
   "source": []
  }
 ],
 "metadata": {
  "kernelspec": {
   "display_name": "Python 3",
   "language": "python",
   "name": "python3"
  },
  "language_info": {
   "codemirror_mode": {
    "name": "ipython",
    "version": 3
   },
   "file_extension": ".py",
   "mimetype": "text/x-python",
   "name": "python",
   "nbconvert_exporter": "python",
   "pygments_lexer": "ipython3",
   "version": "3.7.6"
  }
 },
 "nbformat": 4,
 "nbformat_minor": 4
}
