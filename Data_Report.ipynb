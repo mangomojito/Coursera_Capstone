{
 "cells": [
  {
   "cell_type": "code",
   "execution_count": 2,
   "metadata": {},
   "outputs": [],
   "source": [
    "### Data Report ###\n",
    "\n",
    "# The dataset being used for this project is sourced from the SDOT Traffic Management Division, Traffic Records Group\n",
    "# based in Seattle and includes all traffic collisions records dated from 2004 to the present. This data includes\n",
    "# detailed information about each collision that took place in Seattle that can be useful for this project, such as\n",
    "# the weather conditions, road conditions, light conditions, whether a pedestrian had right of way, whether speeding\n",
    "# was a factor of the collision, which lane the collision occurred in, a brief description of the collision, the type\n",
    "# of location/address the collision occurred at (such as an intersection or block, and the severity of the collision\n",
    "# (given as a numerical code). In the model being built for this project, the severity code will be the dependent \n",
    "# variable that is to be predicted based on the all of the aforementioned collision attributes (which will be the\n",
    "# independent variables)."
   ]
  },
  {
   "cell_type": "code",
   "execution_count": null,
   "metadata": {},
   "outputs": [],
   "source": []
  }
 ],
 "metadata": {
  "kernelspec": {
   "display_name": "Python 3",
   "language": "python",
   "name": "python3"
  },
  "language_info": {
   "codemirror_mode": {
    "name": "ipython",
    "version": 3
   },
   "file_extension": ".py",
   "mimetype": "text/x-python",
   "name": "python",
   "nbconvert_exporter": "python",
   "pygments_lexer": "ipython3",
   "version": "3.7.6"
  }
 },
 "nbformat": 4,
 "nbformat_minor": 4
}
